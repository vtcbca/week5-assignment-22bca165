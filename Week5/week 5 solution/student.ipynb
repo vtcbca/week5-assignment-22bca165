{
 "cells": [
  {
   "cell_type": "markdown",
   "id": "9f026da1",
   "metadata": {},
   "source": [
    "### Insert 5 records directly "
   ]
  },
  {
   "cell_type": "code",
   "execution_count": 1,
   "id": "6fd3102d",
   "metadata": {},
   "outputs": [],
   "source": [
    "import csv"
   ]
  },
  {
   "cell_type": "code",
   "execution_count": 2,
   "id": "ef797146",
   "metadata": {},
   "outputs": [],
   "source": [
    "f=open('student.csv','w',newline='')"
   ]
  },
  {
   "cell_type": "code",
   "execution_count": 3,
   "id": "ca21b479",
   "metadata": {},
   "outputs": [],
   "source": [
    "w=csv.writer(f)"
   ]
  },
  {
   "cell_type": "code",
   "execution_count": 4,
   "id": "5f4099c2",
   "metadata": {},
   "outputs": [],
   "source": [
    "header=['sid','sname','city','contact']"
   ]
  },
  {
   "cell_type": "code",
   "execution_count": 5,
   "id": "0294aa32",
   "metadata": {},
   "outputs": [
    {
     "data": {
      "text/plain": [
       "24"
      ]
     },
     "execution_count": 5,
     "metadata": {},
     "output_type": "execute_result"
    }
   ],
   "source": [
    "w.writerow(header)"
   ]
  },
  {
   "cell_type": "code",
   "execution_count": 6,
   "id": "c780042c",
   "metadata": {},
   "outputs": [],
   "source": [
    "row=[[1,'om','surat',9887748596],[2,'sai','bardoli',7485966523],[3,'ram','vapi',9586758442],\n",
    "     [4,'anil','mumbai',8574965241],[5,'sunil','navsari',7874858695]]"
   ]
  },
  {
   "cell_type": "code",
   "execution_count": 7,
   "id": "c616e202",
   "metadata": {},
   "outputs": [],
   "source": [
    "w.writerows(row)"
   ]
  },
  {
   "cell_type": "code",
   "execution_count": 8,
   "id": "7a9bfc3a",
   "metadata": {},
   "outputs": [],
   "source": [
    "f.close()"
   ]
  },
  {
   "cell_type": "markdown",
   "id": "c3c8818e",
   "metadata": {},
   "source": [
    "### Insert 5 records take input from user"
   ]
  },
  {
   "cell_type": "code",
   "execution_count": 9,
   "id": "f1ed6dcb",
   "metadata": {},
   "outputs": [],
   "source": [
    "f=open('student.csv','a',newline='')"
   ]
  },
  {
   "cell_type": "code",
   "execution_count": 10,
   "id": "4c63e461",
   "metadata": {},
   "outputs": [],
   "source": [
    "w=csv.writer(f)"
   ]
  },
  {
   "cell_type": "code",
   "execution_count": 11,
   "id": "6abb4dba",
   "metadata": {},
   "outputs": [],
   "source": [
    "l=[]"
   ]
  },
  {
   "cell_type": "code",
   "execution_count": 12,
   "id": "e1acc695",
   "metadata": {},
   "outputs": [
    {
     "name": "stdout",
     "output_type": "stream",
     "text": [
      "Enter student id:6\n",
      "Enter student name:ashok\n",
      "Enter student city:chennai\n",
      "Enter student number:7381968574\n",
      "Enter student id:7\n",
      "Enter student name:ajay\n",
      "Enter student city:pune\n",
      "Enter student number:8245657512\n",
      "Enter student id:8\n",
      "Enter student name:vijay\n",
      "Enter student city:hyderabad\n",
      "Enter student number:8321234284\n",
      "Enter student id:9\n",
      "Enter student name:rohit\n",
      "Enter student city:mumbai\n",
      "Enter student number:7345416375\n",
      "Enter student id:10\n",
      "Enter student name:hardik\n",
      "Enter student city:kolkata\n",
      "Enter student number:9584625175\n"
     ]
    }
   ],
   "source": [
    "for i in range(5):\n",
    "    sid=int(input('Enter student id:'))\n",
    "    sname=input('Enter student name:')\n",
    "    city=input('Enter student city:')\n",
    "    no=int(input('Enter student number:'))\n",
    "    r=[sid,sname,city,no]\n",
    "    l.append(r)"
   ]
  },
  {
   "cell_type": "code",
   "execution_count": 13,
   "id": "355d61bb",
   "metadata": {},
   "outputs": [],
   "source": [
    "w.writerows(l)"
   ]
  },
  {
   "cell_type": "code",
   "execution_count": 14,
   "id": "84d71eda",
   "metadata": {},
   "outputs": [],
   "source": [
    "f.close()"
   ]
  },
  {
   "cell_type": "markdown",
   "id": "40fdf1ca",
   "metadata": {},
   "source": [
    "### Read csv file"
   ]
  },
  {
   "cell_type": "code",
   "execution_count": 15,
   "id": "798b4c16",
   "metadata": {},
   "outputs": [],
   "source": [
    "f=open('student.csv','r',newline='')"
   ]
  },
  {
   "cell_type": "code",
   "execution_count": 16,
   "id": "2374331e",
   "metadata": {},
   "outputs": [],
   "source": [
    "r=csv.reader(f)"
   ]
  },
  {
   "cell_type": "code",
   "execution_count": 17,
   "id": "4fc1a10c",
   "metadata": {},
   "outputs": [],
   "source": [
    "header=next(r)"
   ]
  },
  {
   "cell_type": "code",
   "execution_count": 18,
   "id": "ef2204a9",
   "metadata": {},
   "outputs": [
    {
     "name": "stdout",
     "output_type": "stream",
     "text": [
      "['1', 'om', 'surat', '9887748596']\n",
      "['2', 'sai', 'bardoli', '7485966523']\n",
      "['3', 'ram', 'vapi', '9586758442']\n",
      "['4', 'anil', 'mumbai', '8574965241']\n",
      "['5', 'sunil', 'navsari', '7874858695']\n",
      "['6', 'ashok', 'chennai', '7381968574']\n",
      "['7', 'ajay', 'pune', '8245657512']\n",
      "['8', 'vijay', 'hyderabad', '8321234284']\n",
      "['9', 'rohit', 'mumbai', '7345416375']\n",
      "['10', 'hardik', 'kolkata', '9584625175']\n"
     ]
    }
   ],
   "source": [
    "for row in r:\n",
    "    print(row)"
   ]
  },
  {
   "cell_type": "code",
   "execution_count": 19,
   "id": "bdac9d39",
   "metadata": {},
   "outputs": [],
   "source": [
    "f.close()"
   ]
  }
 ],
 "metadata": {
  "kernelspec": {
   "display_name": "Python 3 (ipykernel)",
   "language": "python",
   "name": "python3"
  },
  "language_info": {
   "codemirror_mode": {
    "name": "ipython",
    "version": 3
   },
   "file_extension": ".py",
   "mimetype": "text/x-python",
   "name": "python",
   "nbconvert_exporter": "python",
   "pygments_lexer": "ipython3",
   "version": "3.10.10"
  }
 },
 "nbformat": 4,
 "nbformat_minor": 5
}
